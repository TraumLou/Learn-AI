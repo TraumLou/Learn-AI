{
 "cells": [
  {
   "cell_type": "markdown",
   "metadata": {},
   "source": [
    "# voting能够提高准确度的原因"
   ]
  },
  {
   "cell_type": "code",
   "execution_count": 1,
   "metadata": {},
   "outputs": [
    {
     "name": "stdout",
     "output_type": "stream",
     "text": [
      "0.975\n"
     ]
    }
   ],
   "source": [
    "import numpy as np\n",
    "n=10000 # 分类器数量\n",
    "p = np.array([0.51, 0.49])\n",
    "result = []\n",
    "for i in range(1000):\n",
    "    num = np.random.choice([0, 1],size=n, p = p.ravel())\n",
    "    if len(num[num==0])>len(num[num==1]):\n",
    "        result.append(0)\n",
    "    else:\n",
    "        result.append(1)\n",
    "\n",
    "result = np.array(result)\n",
    "print(len(result[result==0])/float(len(result)))"
   ]
  },
  {
   "cell_type": "markdown",
   "metadata": {},
   "source": [
    "# 投票表决"
   ]
  },
  {
   "cell_type": "code",
   "execution_count": 5,
   "metadata": {},
   "outputs": [
    {
     "name": "stdout",
     "output_type": "stream",
     "text": [
      "LogisticRegression = 0.8897142857142857\n",
      "DecisionTreeClassifier = 0.996\n",
      "SVC = 0.9988571428571429\n",
      "VotingClassifier = 0.9982857142857143\n"
     ]
    },
    {
     "data": {
      "image/png": "[encoded data removed]",
      "text/plain": [
       "<Figure size 432x288 with 1 Axes>"
      ]
     },
     "metadata": {
      "needs_background": "light"
     },
     "output_type": "display_data"
    }
   ],
   "source": [
    "from sklearn.ensemble import VotingClassifier\n",
    "\n",
    "from sklearn.linear_model import LogisticRegression\n",
    "from sklearn.tree import DecisionTreeClassifier\n",
    "from sklearn.svm import SVC\n",
    "\n",
    "from sklearn.metrics import accuracy_score\n",
    "from sklearn.datasets import make_moons\n",
    "from sklearn.model_selection import train_test_split\n",
    "import matplotlib.pyplot as plt\n",
    "\n",
    "# 使用Sklearn中moon数据集\n",
    "X, y = make_moons(n_samples=7000, noise=0.1)\n",
    "plt.scatter(X[:,0], X[:,1])\n",
    "\n",
    "# 数据集分割\n",
    "X_train, X_test, y_train, y_test = train_test_split(X, y, \n",
    "                                        test_size=0.25, \n",
    "                                        random_state=42)\n",
    "\n",
    "# 定义三个基分类器\n",
    "# 逻辑回归、决策树、SVM\n",
    "lr = LogisticRegression()\n",
    "dt = DecisionTreeClassifier()\n",
    "# svm = SVC()\n",
    "# 若为软投票表决需要输出概率，svm需要加probability=True\n",
    "svm = SVC(probability=True)\n",
    "\n",
    "# 定义投票分类器\n",
    "voting = VotingClassifier(\n",
    "    estimators=[('lr', lr), ('rf', dt), ('svc', svm)],\n",
    "    # 若为硬投票表决voting为hard\n",
    "    # 若为软投票表决voting为soft\n",
    "    voting='hard'\n",
    ")\n",
    "\n",
    "# 输出各个分类器的准确率\n",
    "for clf in (lr, dt, svm, voting):\n",
    "    clf.fit(X_train, y_train)\n",
    "    y_hat = clf.predict(X_test)\n",
    "    print(clf.__class__.__name__, '=', accuracy_score(y_test, y_hat))"
   ]
  },
  {
   "cell_type": "markdown",
   "metadata": {},
   "source": [
    "# bagging"
   ]
  },
  {
   "cell_type": "code",
   "execution_count": 33,
   "metadata": {},
   "outputs": [],
   "source": [
    "from sklearn.ensemble import BaggingClassifier\n",
    "from sklearn.svm import SVC\n",
    "from sklearn.datasets import load_iris\n",
    "from sklearn.tree import DecisionTreeClassifier\n",
    "from sklearn.metrics import accuracy_score\n",
    "\n",
    "iris = load_iris()\n",
    "X = iris.data\n",
    "y = iris.target"
   ]
  },
  {
   "cell_type": "code",
   "execution_count": 4,
   "metadata": {},
   "outputs": [
    {
     "name": "stdout",
     "output_type": "stream",
     "text": [
      "BaggingClassifier = 0.9733333333333334\n"
     ]
    }
   ],
   "source": [
    "bag_clf = BaggingClassifier(\n",
    "    SVC(), # 基分类器\n",
    "    n_estimators=500, # 有多少个基分类器\n",
    "    # True为有放回抽样，就是bagging\n",
    "    # False为无放回抽样，相当于pasting\n",
    "    bootstrap=True,\n",
    "    max_samples=1.0,\n",
    ")\n",
    "bag_clf.fit(X, y)\n",
    "y_hat = bag_clf.predict(X)\n",
    "print(bag_clf.__class__.__name__, '=', accuracy_score(y, y_hat))"
   ]
  },
  {
   "cell_type": "code",
   "execution_count": 34,
   "metadata": {},
   "outputs": [
    {
     "name": "stdout",
     "output_type": "stream",
     "text": [
      "0.9666666666666667\n",
      "[[1.         0.         0.        ]\n",
      " [1.         0.         0.        ]\n",
      " [1.         0.         0.        ]\n",
      " [1.         0.         0.        ]\n",
      " [1.         0.         0.        ]\n",
      " [1.         0.         0.        ]\n",
      " [1.         0.         0.        ]\n",
      " [1.         0.         0.        ]\n",
      " [1.         0.         0.        ]\n",
      " [1.         0.         0.        ]\n",
      " [1.         0.         0.        ]\n",
      " [1.         0.         0.        ]\n",
      " [1.         0.         0.        ]\n",
      " [1.         0.         0.        ]\n",
      " [1.         0.         0.        ]\n",
      " [1.         0.         0.        ]\n",
      " [1.         0.         0.        ]\n",
      " [1.         0.         0.        ]\n",
      " [1.         0.         0.        ]\n",
      " [1.         0.         0.        ]\n",
      " [1.         0.         0.        ]\n",
      " [1.         0.         0.        ]\n",
      " [1.         0.         0.        ]\n",
      " [1.         0.         0.        ]\n",
      " [1.         0.         0.        ]\n",
      " [1.         0.         0.        ]\n",
      " [1.         0.         0.        ]\n",
      " [1.         0.         0.        ]\n",
      " [1.         0.         0.        ]\n",
      " [1.         0.         0.        ]\n",
      " [1.         0.         0.        ]\n",
      " [1.         0.         0.        ]\n",
      " [1.         0.         0.        ]\n",
      " [1.         0.         0.        ]\n",
      " [1.         0.         0.        ]\n",
      " [1.         0.         0.        ]\n",
      " [1.         0.         0.        ]\n",
      " [1.         0.         0.        ]\n",
      " [1.         0.         0.        ]\n",
      " [1.         0.         0.        ]\n",
      " [1.         0.         0.        ]\n",
      " [1.         0.         0.        ]\n",
      " [1.         0.         0.        ]\n",
      " [1.         0.         0.        ]\n",
      " [1.         0.         0.        ]\n",
      " [1.         0.         0.        ]\n",
      " [1.         0.         0.        ]\n",
      " [1.         0.         0.        ]\n",
      " [1.         0.         0.        ]\n",
      " [1.         0.         0.        ]\n",
      " [0.         1.         0.        ]\n",
      " [0.         1.         0.        ]\n",
      " [0.         0.97093023 0.02906977]\n",
      " [0.         1.         0.        ]\n",
      " [0.         1.         0.        ]\n",
      " [0.         1.         0.        ]\n",
      " [0.         1.         0.        ]\n",
      " [0.         1.         0.        ]\n",
      " [0.         1.         0.        ]\n",
      " [0.         1.         0.        ]\n",
      " [0.         1.         0.        ]\n",
      " [0.         1.         0.        ]\n",
      " [0.         1.         0.        ]\n",
      " [0.         1.         0.        ]\n",
      " [0.         1.         0.        ]\n",
      " [0.         1.         0.        ]\n",
      " [0.         1.         0.        ]\n",
      " [0.         1.         0.        ]\n",
      " [0.         1.         0.        ]\n",
      " [0.         1.         0.        ]\n",
      " [0.         0.53888889 0.46111111]\n",
      " [0.         1.         0.        ]\n",
      " [0.         0.62857143 0.37142857]\n",
      " [0.         1.         0.        ]\n",
      " [0.         1.         0.        ]\n",
      " [0.         1.         0.        ]\n",
      " [0.         1.         0.        ]\n",
      " [0.         0.30845771 0.69154229]\n",
      " [0.         1.         0.        ]\n",
      " [0.         1.         0.        ]\n",
      " [0.         1.         0.        ]\n",
      " [0.         1.         0.        ]\n",
      " [0.         1.         0.        ]\n",
      " [0.         0.06217617 0.93782383]\n",
      " [0.         1.         0.        ]\n",
      " [0.         1.         0.        ]\n",
      " [0.         1.         0.        ]\n",
      " [0.         1.         0.        ]\n",
      " [0.         1.         0.        ]\n",
      " [0.         1.         0.        ]\n",
      " [0.         1.         0.        ]\n",
      " [0.         1.         0.        ]\n",
      " [0.         1.         0.        ]\n",
      " [0.         1.         0.        ]\n",
      " [0.         1.         0.        ]\n",
      " [0.         1.         0.        ]\n",
      " [0.         1.         0.        ]\n",
      " [0.         1.         0.        ]\n",
      " [0.         1.         0.        ]\n",
      " [0.         1.         0.        ]\n",
      " [0.         0.         1.        ]\n",
      " [0.         0.         1.        ]\n",
      " [0.         0.         1.        ]\n",
      " [0.         0.         1.        ]\n",
      " [0.         0.         1.        ]\n",
      " [0.         0.         1.        ]\n",
      " [0.         0.87765957 0.12234043]\n",
      " [0.         0.         1.        ]\n",
      " [0.         0.         1.        ]\n",
      " [0.         0.         1.        ]\n",
      " [0.         0.         1.        ]\n",
      " [0.         0.         1.        ]\n",
      " [0.         0.         1.        ]\n",
      " [0.         0.         1.        ]\n",
      " [0.         0.         1.        ]\n",
      " [0.         0.         1.        ]\n",
      " [0.         0.         1.        ]\n",
      " [0.         0.         1.        ]\n",
      " [0.         0.         1.        ]\n",
      " [0.         0.32989691 0.67010309]\n",
      " [0.         0.         1.        ]\n",
      " [0.         0.05319149 0.94680851]\n",
      " [0.         0.         1.        ]\n",
      " [0.         0.19680851 0.80319149]\n",
      " [0.         0.         1.        ]\n",
      " [0.         0.         1.        ]\n",
      " [0.         0.50581395 0.49418605]\n",
      " [0.         0.32352941 0.67647059]\n",
      " [0.         0.         1.        ]\n",
      " [0.         0.         1.        ]\n",
      " [0.         0.         1.        ]\n",
      " [0.         0.         1.        ]\n",
      " [0.         0.         1.        ]\n",
      " [0.         0.36702128 0.63297872]\n",
      " [0.         0.         1.        ]\n",
      " [0.         0.         1.        ]\n",
      " [0.         0.         1.        ]\n",
      " [0.         0.         1.        ]\n",
      " [0.         0.56666667 0.43333333]\n",
      " [0.         0.         1.        ]\n",
      " [0.         0.         1.        ]\n",
      " [0.         0.         1.        ]\n",
      " [0.         0.         1.        ]\n",
      " [0.         0.         1.        ]\n",
      " [0.         0.         1.        ]\n",
      " [0.         0.         1.        ]\n",
      " [0.         0.01081081 0.98918919]\n",
      " [0.         0.         1.        ]\n",
      " [0.         0.         1.        ]\n",
      " [0.         0.02325581 0.97674419]]\n"
     ]
    }
   ],
   "source": [
    "# 包外估计\n",
    "bag_clf = BaggingClassifier(\n",
    "    SVC(), # 基分类器\n",
    "    n_estimators=500, # 有多少个基分类器\n",
    "    # True为有放回抽样，就是bagging\n",
    "    # False为无放回抽样，相当于pasting\n",
    "    bootstrap=True,\n",
    "    max_samples=1.0,\n",
    "    oob_score=True\n",
    ")\n",
    "bag_clf.fit(X, y)\n",
    "print(bag_clf.oob_score_)\n",
    "# 每个训练实例的包外决策函数，决策函数返回的是每个实例的类别概率\n",
    "print(bag_clf.oob_decision_function_)"
   ]
  },
  {
   "cell_type": "markdown",
   "metadata": {},
   "source": [
    "# 随机森林：bagging中的基分类器是决策树"
   ]
  },
  {
   "cell_type": "code",
   "execution_count": 5,
   "metadata": {},
   "outputs": [
    {
     "name": "stdout",
     "output_type": "stream",
     "text": [
      "BaggingClassifier = 1.0\n"
     ]
    }
   ],
   "source": [
    "from sklearn.ensemble import BaggingClassifier\n",
    "from sklearn.datasets import load_iris\n",
    "from sklearn.tree import DecisionTreeClassifier\n",
    "from sklearn.metrics import accuracy_score\n",
    "\n",
    "# X, y = load_iris(return_X_y=True)\n",
    "iris = load_iris()\n",
    "X = iris.data\n",
    "y = iris.target\n",
    "\n",
    "bag_clf = BaggingClassifier(\n",
    "    DecisionTreeClassifier(splitter=\"random\",\n",
    "                           max_leaf_nodes=16),\n",
    "    n_estimators=500,\n",
    "    max_samples=1.0,\n",
    "    bootstrap=True\n",
    ")\n",
    "bag_clf.fit(X, y)\n",
    "y_hat = bag_clf.predict(X)\n",
    "print(bag_clf.__class__.__name__, '=', accuracy_score(y, y_hat))"
   ]
  },
  {
   "cell_type": "markdown",
   "metadata": {},
   "source": [
    "# sklearn中的随机森林API"
   ]
  },
  {
   "cell_type": "code",
   "execution_count": 6,
   "metadata": {},
   "outputs": [
    {
     "name": "stdout",
     "output_type": "stream",
     "text": [
      "BaggingClassifier = 1.0\n"
     ]
    }
   ],
   "source": [
    "from sklearn.ensemble import RandomForestClassifier\n",
    "from sklearn.datasets import load_iris\n",
    "from sklearn.metrics import accuracy_score\n",
    "\n",
    "iris = load_iris()\n",
    "X = iris.data\n",
    "y = iris.target\n",
    "\n",
    "rnd_clf = RandomForestClassifier(n_estimators=500)\n",
    "rnd_clf.fit(X, y)\n",
    "y_hat = rnd_clf.predict(X)\n",
    "print(bag_clf.__class__.__name__, '=', accuracy_score(y, y_hat))"
   ]
  },
  {
   "cell_type": "markdown",
   "metadata": {},
   "source": [
    "# 随机森林的特征重要性"
   ]
  },
  {
   "cell_type": "code",
   "execution_count": 36,
   "metadata": {},
   "outputs": [
    {
     "name": "stdout",
     "output_type": "stream",
     "text": [
      "sepal length (cm) 0.09121251336565848\n",
      "sepal width (cm) 0.023509481759871383\n",
      "petal length (cm) 0.4412210786450729\n",
      "petal width (cm) 0.44405692622939735\n"
     ]
    }
   ],
   "source": [
    "from sklearn.ensemble import RandomForestClassifier\n",
    "\n",
    "from sklearn.datasets import load_iris\n",
    "iris = load_iris()\n",
    "\n",
    "rnd_clf = RandomForestClassifier(n_estimators=500, n_jobs=-1)\n",
    "rnd_clf.fit(iris.data, iris.target)\n",
    "for name, score in zip(iris[\"feature_names\"], \n",
    "                       rnd_clf.feature_importances_):\n",
    "    print(name, score)"
   ]
  },
  {
   "cell_type": "markdown",
   "metadata": {},
   "source": [
    "# AdaBoost代码实现"
   ]
  },
  {
   "cell_type": "code",
   "execution_count": 13,
   "metadata": {},
   "outputs": [
    {
     "name": "stdout",
     "output_type": "stream",
     "text": [
      "train accuarcy: 1.0\n",
      "test accuarcy: 0.9722222222222222\n"
     ]
    }
   ],
   "source": [
    "from sklearn.ensemble import AdaBoostClassifier\n",
    "from sklearn.metrics import accuracy_score\n",
    "from sklearn.model_selection import train_test_split\n",
    "import numpy as np\n",
    "\n",
    "data = np.loadtxt('data/wine.data', delimiter=',')\n",
    "X = data[:, 1:]\n",
    "y = data[:, 0:1]\n",
    "\n",
    "# from sklearn.datasets import load_iris\n",
    "# iris = load_iris()\n",
    "# X = iris.data\n",
    "# y = iris.target\n",
    "\n",
    "from sklearn.preprocessing import StandardScaler\n",
    "X = StandardScaler().fit_transform(X)\n",
    "\n",
    "X_train, X_test, y_train, y_test = train_test_split(X, y.ravel(),\n",
    "                                                    train_size=0.8,\n",
    "                                                    random_state=0)\n",
    "\n",
    "# 定义弱(基)分类器\n",
    "# from sklearn.linear_model import LogisticRegression\n",
    "# rf = LogisticRegression()\n",
    "\n",
    "from sklearn.tree import DecisionTreeClassifier\n",
    "rf = DecisionTreeClassifier()\n",
    "\n",
    "# 定义AdaBoost分类器\n",
    "model = AdaBoostClassifier(\n",
    "    base_estimator=rf,\n",
    "    n_estimators=50,\n",
    "    learning_rate=0.5\n",
    ")\n",
    "model.fit(X_train, y_train)\n",
    "\n",
    "y_train_hat = model.predict(X_train)\n",
    "print(\"train accuarcy:\",accuracy_score(y_train,y_train_hat))\n",
    "\n",
    "y_test_hat = model.predict(X_test)\n",
    "print(\"test accuarcy:\", accuracy_score(y_test, y_test_hat))"
   ]
  },
  {
   "cell_type": "markdown",
   "metadata": {},
   "source": [
    "# GBDT"
   ]
  },
  {
   "cell_type": "code",
   "execution_count": 37,
   "metadata": {},
   "outputs": [
    {
     "data": {
      "text/plain": [
       "<matplotlib.collections.PathCollection at 0x7fe8501242d0>"
      ]
     },
     "execution_count": 37,
     "metadata": {},
     "output_type": "execute_result"
    },
    {
     "data": {
      "image/png": "[encoded data removed]",
      "text/plain": [
       "<Figure size 432x288 with 1 Axes>"
      ]
     },
     "metadata": {
      "needs_background": "light"
     },
     "output_type": "display_data"
    }
   ],
   "source": [
    "from sklearn.tree import DecisionTreeRegressor\n",
    "import numpy as np\n",
    "import matplotlib.pyplot as plt\n",
    "\n",
    "data = np.loadtxt('data/data.txt',delimiter=',')\n",
    "n = data.shape[1]-1 #特征数\n",
    "X = data[:,0:n]\n",
    "y = data[:,-1].reshape(-1,1)\n",
    "\n",
    "plt.scatter(X,y)"
   ]
  },
  {
   "cell_type": "code",
   "execution_count": 38,
   "metadata": {},
   "outputs": [
    {
     "name": "stdout",
     "output_type": "stream",
     "text": [
      "[17.61560196  9.15380196 12.831       4.57199973  6.68971688]\n"
     ]
    }
   ],
   "source": [
    "# 根据算法原理手动实现：使用决策树作为基础预测器\n",
    "# 被称为梯度树提升或梯度提升回归树(GBRT)\n",
    "\n",
    "# 1.定义第一棵数（最大深度设定为5），并进行训练\n",
    "tree_reg1 = DecisionTreeRegressor(max_depth=5)\n",
    "tree_reg1.fit(X, y)\n",
    "# 2.计算残差，并把残差当做目标值训练第二棵树（最大深度设定为5）\n",
    "y2 = y - tree_reg1.predict(X).reshape(-1, 1)\n",
    "tree_reg2 = DecisionTreeRegressor(max_depth=5)\n",
    "tree_reg2.fit(X, y2)\n",
    "# 3.继续计算残差，并把残差当做目标值训练第三棵树(最大深度设定为5)\n",
    "y3 = y2 - tree_reg2.predict(X).reshape(-1,1)\n",
    "tree_reg3 = DecisionTreeRegressor(max_depth=5)\n",
    "tree_reg3.fit(X, y3)\n",
    "# 4.测试\n",
    "# 取数据集前5条数据，并对前5条数据做预测\n",
    "X_new = X[0:5, ]\n",
    "y_pred = sum(tree.predict(X_new) for tree in (tree_reg1, tree_reg2, tree_reg3))\n",
    "print(y_pred)"
   ]
  },
  {
   "cell_type": "markdown",
   "metadata": {},
   "source": [
    "# 直接使用sklearn提供的GradientBoostingRegressor"
   ]
  },
  {
   "cell_type": "code",
   "execution_count": 39,
   "metadata": {},
   "outputs": [
    {
     "name": "stdout",
     "output_type": "stream",
     "text": [
      "[17.61560196  9.15380196 12.831       4.57199973  6.68971688]\n"
     ]
    }
   ],
   "source": [
    "from sklearn.ensemble import GradientBoostingRegressor\n",
    "gbrt = GradientBoostingRegressor(max_depth=5,\n",
    "                                 n_estimators=3,\n",
    "                                 learning_rate=1.0)\n",
    "gbrt.fit(X, y.ravel())\n",
    "print(gbrt.predict(X_new))"
   ]
  },
  {
   "cell_type": "markdown",
   "metadata": {},
   "source": [
    "# 使用提前停止法找GBRT树的最佳数量"
   ]
  },
  {
   "cell_type": "code",
   "execution_count": 40,
   "metadata": {},
   "outputs": [
    {
     "ename": "SyntaxError",
     "evalue": "invalid syntax (<ipython-input-40-6fcabff304b9>, line 5)",
     "output_type": "error",
     "traceback": [
      "\u001b[0;36m  File \u001b[0;32m\"<ipython-input-40-6fcabff304b9>\"\u001b[0;36m, line \u001b[0;32m5\u001b[0m\n\u001b[0;31m    from sklearn.model_selection improt train_test_split\u001b[0m\n\u001b[0m                                      ^\u001b[0m\n\u001b[0;31mSyntaxError\u001b[0m\u001b[0;31m:\u001b[0m invalid syntax\n"
     ]
    }
   ],
   "source": [
    "# 使用staged_predict()方法：在训练的每个阶段都对集成的预测返回一个迭代器\n",
    "# 以下代码训练了一个拥有120棵树的GBRT集成，然后测量每个训练阶段的验证误差，\n",
    "# 从而找到树的最优数量，最后使用最优树重新训练了一个GBRT集成\n",
    "import numpy as np\n",
    "from sklearn.model_selection import train_test_split\n",
    "from sklearn.metrics import mean_squared_error\n",
    "from sklearn.ensemble import GradientBoostingRegressor\n",
    "\n",
    "X_train, X_test, y_train, y_test = train_test_split(X, y.ravel(), \n",
    "                                                    train_size=0.8, \n",
    "                                                    random_state=0)\n",
    "\n",
    "gbrt = GradientBoostingRegressor(max_depth=2,\n",
    "                                 n_estimators=120)\n",
    "gbrt.fit(X_train, y_train)\n",
    "\n",
    "errors = [mean_squared_error(y_val, y_pred)\n",
    "          for y_pred in gbrt.]"
   ]
  },
  {
   "cell_type": "markdown",
   "metadata": {},
   "source": [
    "# Stacking代码实现-mlxtend"
   ]
  },
  {
   "cell_type": "code",
   "execution_count": 22,
   "metadata": {},
   "outputs": [
    {
     "name": "stdout",
     "output_type": "stream",
     "text": [
      "KNeighborsClassifier ,test accuarcy: 0.8055555555555556\n",
      "RandomForestClassifier ,test accuarcy: 1.0\n",
      "GaussianNB ,test accuarcy: 0.9166666666666666\n",
      "LogisticRegression ,test accuarcy: 0.9166666666666666\n",
      "StackingClassifier ,test accuarcy: 0.9722222222222222\n"
     ]
    },
    {
     "name": "stderr",
     "output_type": "stream",
     "text": [
      "/Users/traumlou/opt/anaconda3/lib/python3.7/site-packages/sklearn/linear_model/_logistic.py:940: ConvergenceWarning: lbfgs failed to converge (status=1):\n",
      "STOP: TOTAL NO. of ITERATIONS REACHED LIMIT.\n",
      "\n",
      "Increase the number of iterations (max_iter) or scale the data as shown in:\n",
      "    https://scikit-learn.org/stable/modules/preprocessing.html\n",
      "Please also refer to the documentation for alternative solver options:\n",
      "    https://scikit-learn.org/stable/modules/linear_model.html#logistic-regression\n",
      "  extra_warning_msg=_LOGISTIC_SOLVER_CONVERGENCE_MSG)\n"
     ]
    }
   ],
   "source": [
    "# sklearn并没有集成stacking，使用前需用如下命令安装 pip install mlxtend\n",
    "from sklearn.linear_model import LogisticRegression\n",
    "from sklearn.neighbors import KNeighborsClassifier\n",
    "from sklearn.naive_bayes import GaussianNB\n",
    "from sklearn.ensemble import RandomForestClassifier\n",
    "from mlxtend.classifier import StackingClassifier\n",
    "from sklearn.metrics import accuracy_score\n",
    "from sklearn.model_selection import train_test_split\n",
    "import numpy as np\n",
    "\n",
    "data = np.loadtxt('data/wine.data', delimiter=',')\n",
    "X = data[:, 1:]\n",
    "y = data[:, 0:1]\n",
    "X_train, X_test, y_train, y_test = train_test_split(X, y.ravel(), \n",
    "                                                    train_size=0.8, \n",
    "                                                    random_state=0)\n",
    "\n",
    "# 定义基分类器\n",
    "clf1 = KNeighborsClassifier(n_neighbors=5)\n",
    "clf2 = RandomForestClassifier(random_state=1)\n",
    "clf3 = GaussianNB()\n",
    "\n",
    "# 定义最后用的逻辑回归分类器\n",
    "lr = LogisticRegression()\n",
    "\n",
    "# 定义堆叠集成\n",
    "sclf = StackingClassifier(classifiers=[clf1,clf2,clf3], \n",
    "                          meta_classifier=lr, \n",
    "                          use_probas=True)\n",
    "\n",
    "# 对每个模型分别进行评价\n",
    "for model in [clf1,clf2,clf3,lr,sclf]:\n",
    "    model.fit(X_train,y_train)\n",
    "    y_test_hat = model.predict(X_test)\n",
    "    print(model.__class__.__name__, \n",
    "          ',test accuarcy:',\n",
    "          accuracy_score(y_test,y_test_hat))"
   ]
  },
  {
   "cell_type": "markdown",
   "metadata": {},
   "source": [
    "# Stacking代码实现 - sklearn"
   ]
  },
  {
   "cell_type": "code",
   "execution_count": 30,
   "metadata": {},
   "outputs": [
    {
     "data": {
      "text/plain": [
       "0.9473684210526315"
      ]
     },
     "execution_count": 30,
     "metadata": {},
     "output_type": "execute_result"
    }
   ],
   "source": [
    "from sklearn.ensemble import RandomForestClassifier\n",
    "from sklearn.svm import LinearSVC\n",
    "from sklearn.linear_model import LogisticRegression\n",
    "from sklearn.neighbors import KNeighborsClassifier\n",
    "from sklearn.naive_bayes import GaussianNB\n",
    "from sklearn.preprocessing import StandardScaler\n",
    "from sklearn.pipeline import make_pipeline\n",
    "from sklearn.ensemble import StackingClassifier\n",
    "\n",
    "from sklearn.datasets import load_iris\n",
    "X, y = load_iris(return_X_y=True)\n",
    "\n",
    "from sklearn.model_selection import train_test_split\n",
    "X_train, X_test, y_train, y_test = train_test_split(X, y,\n",
    "                                                    stratify=y,\n",
    "                                                    random_state=42)\n",
    "\n",
    "estimators1 = [\n",
    "    ('knn', KNeighborsClassifier(n_neighbors=5)),\n",
    "    ('rf', RandomForestClassifier(random_state=1)),\n",
    "    ('nb', GaussianNB())\n",
    "]\n",
    "estimators = [\n",
    "    ('rf', RandomForestClassifier(n_estimators=10,\n",
    "                                  random_state=42)),\n",
    "    ('svr', make_pipeline(StandardScaler(),\n",
    "                          LinearSVC(random_state=42)))\n",
    "]\n",
    "clf = StackingClassifier(estimators=estimators1,\n",
    "                         final_estimator=LogisticRegression())\n",
    "clf.fit(X_train, y_train).score(X_test, y_test)"
   ]
  },
  {
   "cell_type": "markdown",
   "metadata": {},
   "source": [
    "# XGBoost代码实现1"
   ]
  },
  {
   "cell_type": "markdown",
   "metadata": {},
   "source": [
    "sklearn并没有集成xgboost，使用前需用如下命令安装 pip install xgboost 或者 conda install -c conda-forge xgboost "
   ]
  },
  {
   "cell_type": "code",
   "execution_count": null,
   "metadata": {},
   "outputs": [],
   "source": [
    "import xgboost as xgb"
   ]
  },
  {
   "cell_type": "code",
   "execution_count": null,
   "metadata": {},
   "outputs": [],
   "source": []
  },
  {
   "cell_type": "code",
   "execution_count": null,
   "metadata": {},
   "outputs": [],
   "source": []
  }
 ],
 "metadata": {
  "kernelspec": {
   "display_name": "Python 3",
   "language": "python",
   "name": "python3"
  },
  "language_info": {
   "codemirror_mode": {
    "name": "ipython",
    "version": 3
   },
   "file_extension": ".py",
   "mimetype": "text/x-python",
   "name": "python",
   "nbconvert_exporter": "python",
   "pygments_lexer": "ipython3",
   "version": "3.7.6"
  }
 },
 "nbformat": 4,
 "nbformat_minor": 4
}
