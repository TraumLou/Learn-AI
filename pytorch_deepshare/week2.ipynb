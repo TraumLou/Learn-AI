{
 "cells": [
  {
   "cell_type": "markdown",
   "metadata": {},
   "source": [
    "# 1.Dataloader与Dataset\n",
    "\n",
    "Q:如何用torch.utils.data.DataLoader构建可迭代的数据装载器？\n",
    "- 这是个类：`torch.utils.data.DataLoader(dataset, batch_size=1, shuffle=False, sampler=None, batch_sampler=None, num_workers=0, collate_fn=None, pin_memory=False, drop_last=False, timeout=0, worker_init_fn=None, multiprocessing_context=None, generator=None)`\n",
    "- dataset: Dataset类，决定数据从哪读取及如何读取\n",
    "- batchsize：批大小\n",
    "- num_works：是否多进程读取数据\n",
    "- shuffle：每个epoch是否乱序\n",
    "- drop_last：当样本数不能被batchsize整除时，是否舍弃最后一批数据\n",
    "\n"
   ]
  }
 ],
 "metadata": {
  "kernelspec": {
   "display_name": "Python 3",
   "language": "python",
   "name": "python3"
  },
  "language_info": {
   "codemirror_mode": {
    "name": "ipython",
    "version": 3
   },
   "file_extension": ".py",
   "mimetype": "text/x-python",
   "name": "python",
   "nbconvert_exporter": "python",
   "pygments_lexer": "ipython3",
   "version": "3.6.12"
  }
 },
 "nbformat": 4,
 "nbformat_minor": 4
}
